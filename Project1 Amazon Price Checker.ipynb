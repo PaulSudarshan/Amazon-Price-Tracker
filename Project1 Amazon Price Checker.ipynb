{
 "cells": [
  {
   "cell_type": "code",
   "execution_count": null,
   "metadata": {},
   "outputs": [],
   "source": [
    "from bs4 import BeautifulSoup as soup\n",
    "from urllib.request import urlopen, Request\n",
    "import smtplib"
   ]
  },
  {
   "cell_type": "code",
   "execution_count": null,
   "metadata": {},
   "outputs": [],
   "source": [
    "my_url='https://www.amazon.in/VivoBook-X409FA-EK555T-Integrated-Graphics-Transparent/dp/B07WNGR8GQ/ref=sxin_1?ascsubtag=amzn1.osa.82e42131-14d0-4dca-a19e-69586f52302f.A21TJRUUN4KGV.en_IN&creativeASIN=B07WNGR8GQ&cv_ct_cx=laptop&cv_ct_id=amzn1.osa.82e42131-14d0-4dca-a19e-69586f52302f.A21TJRUUN4KGV.en_IN&cv_ct_pg=search&cv_ct_wn=osp-single-source&dchild=1&keywords=laptop&linkCode=oas&pd_rd_i=B07WNGR8GQ&pd_rd_r=18af1f8a-1506-4021-a3bf-b0e2ae986b6c&pd_rd_w=J0j11&pd_rd_wg=5RFsB&pf_rd_p=877e925b-92fc-49ec-84d8-d58ed57f08fa&pf_rd_r=D44PN7QZK80PXB7H0C5A&qid=1589616122&sr=1-2-32235bf8-c8dc-423d-b49a-58af94d8b862&tag=digitin-21'"
   ]
  },
  {
   "cell_type": "code",
   "execution_count": null,
   "metadata": {},
   "outputs": [],
   "source": [
    "# .com makes the html code with javascript. You can trick them with using 2 soups. \n",
    "#Load soup1 like in this video. Then load soup2 with soup1.prettify(). T\n",
    "#hen you got soup2 loaded correctly and you can do all the fun stuff.\n",
    "uClient=Request(my_url,headers={'User-Agent':'Mozilla/5.0'})\n",
    "page_html=urlopen(uClient).read()"
   ]
  },
  {
   "cell_type": "code",
   "execution_count": null,
   "metadata": {},
   "outputs": [],
   "source": [
    "page_soup1=soup(page_html,'html.parser')        #\n",
    "page_soup=soup(page_soup1.prettify(),'html.parser')"
   ]
  },
  {
   "cell_type": "code",
   "execution_count": null,
   "metadata": {},
   "outputs": [],
   "source": [
    "print(page_soup.prettify())"
   ]
  },
  {
   "cell_type": "code",
   "execution_count": null,
   "metadata": {
    "scrolled": true
   },
   "outputs": [],
   "source": [
    "title=page_soup.find_all('title')\n",
    "title[0].text.strip()"
   ]
  },
  {
   "cell_type": "code",
   "execution_count": null,
   "metadata": {},
   "outputs": [],
   "source": [
    "price=page_soup.find_all(id=\"priceblock_ourprice\")\n",
    "price[0].text\n",
    "temp1=price[0].text[2:8]\n",
    "temp1=list(temp1)\n",
    "temp1.remove(',')\n",
    "actual_price=float(''.join(temp1))\n",
    "actual_price"
   ]
  },
  {
   "cell_type": "code",
   "execution_count": null,
   "metadata": {},
   "outputs": [],
   "source": [
    "def send_mail():\n",
    "    server=smtplib.SMTP('smtp.gmail.com',587)\n",
    "    server.ehlo()\n",
    "    server.starttls()\n",
    "    server.ehlo()\n",
    "    \n",
    "    server.login('sudarshan.issac@gmail.com','qpugcaagqhaxngql')\n",
    "    \n",
    "    subject= 'Price of the product has decreased since your last visit'\n",
    "    body='Please check the given Amazon link https://www.amazon.in/VivoBook-X409FA-EK555T-Integrated-Graphics-Transparent/dp/B07WNGR8GQ/ref=sxin_1?ascsubtag=amzn1.osa.82e42131-14d0-4dca-a19e-69586f52302f.A21TJRUUN4KGV.en_IN&creativeASIN=B07WNGR8GQ&cv_ct_cx=laptop&cv_ct_id=amzn1.osa.82e42131-14d0-4dca-a19e-69586f52302f.A21TJRUUN4KGV.en_IN&cv_ct_pg=search&cv_ct_wn=osp-single-source&dchild=1&keywords=laptop&linkCode=oas&pd_rd_i=B07WNGR8GQ&pd_rd_r=18af1f8a-1506-4021-a3bf-b0e2ae986b6c&pd_rd_w=J0j11&pd_rd_wg=5RFsB&pf_rd_p=877e925b-92fc-49ec-84d8-d58ed57f08fa&pf_rd_r=D44PN7QZK80PXB7H0C5A&qid=1589616122&sr=1-2-32235bf8-c8dc-423d-b49a-58af94d8b862&tag=digitin-21'\n",
    "    msg=f\"Subject : {subject}\\n\\n {body}\"\n",
    "    server.sendmail (\n",
    "    'sudarshan.issac@gmail.com',\n",
    "    'sudarshan.academics@gmail.com',\n",
    "    msg\n",
    "    )\n",
    "    print('Hey E-mail has been sent!!')\n",
    "    server.quit()"
   ]
  },
  {
   "cell_type": "code",
   "execution_count": null,
   "metadata": {},
   "outputs": [],
   "source": [
    "def price_check():\n",
    "    title=page_soup.find_all('title')\n",
    "    title[0].text.strip()\n",
    "    \n",
    "    price=page_soup.find_all(id=\"priceblock_ourprice\")\n",
    "    temp1=list(price[0].text[2:8])\n",
    "    temp1.remove(',')\n",
    "    actual_price=float(''.join(temp1))\n",
    "    if actual_price < 40000.0:\n",
    "        send_mail()"
   ]
  },
  {
   "cell_type": "code",
   "execution_count": null,
   "metadata": {},
   "outputs": [],
   "source": [
    "# import Time\n",
    "\n",
    "# while(True): Checking Once every 24 hours\n",
    "#     price_check()\n",
    "#     Time.sleep(60*60*24)\n",
    "\n",
    "price_check()"
   ]
  },
  {
   "cell_type": "code",
   "execution_count": null,
   "metadata": {},
   "outputs": [],
   "source": []
  }
 ],
 "metadata": {
  "kernelspec": {
   "display_name": "Python 3",
   "language": "python",
   "name": "python3"
  },
  "language_info": {
   "codemirror_mode": {
    "name": "ipython",
    "version": 3
   },
   "file_extension": ".py",
   "mimetype": "text/x-python",
   "name": "python",
   "nbconvert_exporter": "python",
   "pygments_lexer": "ipython3",
   "version": "3.7.6"
  }
 },
 "nbformat": 4,
 "nbformat_minor": 4
}
